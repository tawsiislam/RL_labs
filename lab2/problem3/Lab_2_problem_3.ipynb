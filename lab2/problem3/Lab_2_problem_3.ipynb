{
  "nbformat": 4,
  "nbformat_minor": 0,
  "metadata": {
    "colab": {
      "provenance": [],
      "gpuType": "T4"
    },
    "kernelspec": {
      "name": "python3",
      "display_name": "Python 3"
    },
    "language_info": {
      "name": "python"
    },
    "accelerator": "GPU"
  },
  "cells": [
    {
      "cell_type": "code",
      "execution_count": null,
      "metadata": {
        "id": "z4O0nQpB_3Yx"
      },
      "outputs": [],
      "source": [
        "from google.colab import drive\n",
        "drive.mount('/content/drive')"
      ]
    },
    {
      "cell_type": "code",
      "source": [
        "%pwd"
      ],
      "metadata": {
        "id": "3o7h9D-IG346"
      },
      "execution_count": null,
      "outputs": []
    },
    {
      "cell_type": "code",
      "source": [
        "%cd /content/drive/MyDrive/Github/RL_labs/lab2/problem3"
      ],
      "metadata": {
        "id": "8QtKJsG3AAAL"
      },
      "execution_count": null,
      "outputs": []
    },
    {
      "cell_type": "code",
      "source": [
        "!pwd"
      ],
      "metadata": {
        "id": "s5MI42hnFWrD"
      },
      "execution_count": null,
      "outputs": []
    },
    {
      "cell_type": "code",
      "source": [
        "!pip install swig #Helps with avoiding problems installing box2d\n",
        "!pip install box2d-py\n",
        "!pip3 install gym==0.17"
      ],
      "metadata": {
        "id": "J0I6RbXbDFas"
      },
      "execution_count": null,
      "outputs": []
    },
    {
      "cell_type": "code",
      "source": [
        "import sys\n",
        "sys.path.insert(0,\"/content/drive/MyDrive/Github/RL_labs/lab2/problem3\")"
      ],
      "metadata": {
        "id": "y8keElSMQwDZ"
      },
      "execution_count": null,
      "outputs": []
    },
    {
      "cell_type": "code",
      "source": [
        "import numpy as np\n",
        "import gym\n",
        "import torch\n",
        "import matplotlib.pyplot as plt\n",
        "from tqdm import trange\n",
        "import torch.nn as nn\n",
        "import torch.optim as optim\n",
        "import random\n",
        "from collections import deque, namedtuple"
      ],
      "metadata": {
        "id": "nJWpJeaxEg22"
      },
      "execution_count": null,
      "outputs": []
    },
    {
      "cell_type": "code",
      "source": [
        "from PPO_agent import *\n",
        "from  ReplayMemory import *"
      ],
      "metadata": {
        "id": "KgcZSVg-SIss"
      },
      "execution_count": null,
      "outputs": []
    },
    {
      "cell_type": "code",
      "source": [
        "!pwd"
      ],
      "metadata": {
        "id": "OI4VkTfMSX7Q"
      },
      "execution_count": null,
      "outputs": []
    },
    {
      "cell_type": "code",
      "source": [
        "!python PPO_problem.py"
      ],
      "metadata": {
        "colab": {
          "base_uri": "https://localhost:8080/"
        },
        "id": "sIXMykGpC96y",
        "outputId": "2432c327-3849-45f4-f1f5-754a672ebdad"
      },
      "execution_count": null,
      "outputs": [
        {
          "output_type": "stream",
          "name": "stdout",
          "text": [
            "Starting the script\n",
            "Running on cuda\n",
            "/usr/local/lib/python3.10/dist-packages/gym/logger.py:30: UserWarning: \u001b[33mWARN: Box bound precision lowered by casting to float32\u001b[0m\n",
            "  warnings.warn(colorize('%s: %s'%('WARN', msg % args), 'yellow'))\n",
            "Episode:   0% 0/1600 [00:00<?, ?it/s]/content/drive/MyDrive/Github/RL_labs/lab2/problem3/PPO_problem.py:107: UserWarning: Creating a tensor from a list of numpy.ndarrays is extremely slow. Please consider converting the list to a single numpy.ndarray with numpy.array() before converting to a tensor. (Triggered internally at ../torch/csrc/utils/tensor_new.cpp:261.)\n",
            "  state_grad = torch.tensor(state, requires_grad=True, device=dev)\n",
            "Episode 1599 - Reward/Steps: 61.2/199 - Avg. Reward/Steps: 199.3/240: 100% 1600/1600 [20:03<00:00,  1.33it/s]\n",
            "Files saved successfully\n",
            "Files saved successfully\n"
          ]
        }
      ]
    },
    {
      "cell_type": "code",
      "source": [
        "model = torch.load('CriticNet.pth', map_location=torch.device('cpu'))\n",
        "torch.save(model, 'neural-network-3-critic.pth')"
      ],
      "metadata": {
        "id": "9PG4fvkEGDCJ"
      },
      "execution_count": null,
      "outputs": []
    },
    {
      "cell_type": "code",
      "source": [
        "!python PPO_check_solution.py"
      ],
      "metadata": {
        "colab": {
          "base_uri": "https://localhost:8080/"
        },
        "id": "gdSNWR6kGdiI",
        "outputId": "8d07bafe-5918-4113-e7c2-f1c0ef33ef1e"
      },
      "execution_count": null,
      "outputs": [
        {
          "output_type": "stream",
          "name": "stdout",
          "text": [
            "Network model: ActorNetwork(\n",
            "  (input_layer): Linear(in_features=8, out_features=400, bias=True)\n",
            "  (input_layer_activation): ReLU()\n",
            "  (hidden_layer_mean): Linear(in_features=400, out_features=200, bias=True)\n",
            "  (hidden_layer_mean_activation): ReLU()\n",
            "  (hidden_layer_variance): Linear(in_features=400, out_features=200, bias=True)\n",
            "  (hidden_layer_variance_activation): ReLU()\n",
            "  (output_layer_mean): Linear(in_features=200, out_features=2, bias=True)\n",
            "  (output_layer_mean_activation): Tanh()\n",
            "  (output_layer_var): Linear(in_features=200, out_features=2, bias=True)\n",
            "  (output_layer_var_activation): Sigmoid()\n",
            ")\n",
            "/usr/local/lib/python3.10/dist-packages/gym/logger.py:30: UserWarning: \u001b[33mWARN: Box bound precision lowered by casting to float32\u001b[0m\n",
            "  warnings.warn(colorize('%s: %s'%('WARN', msg % args), 'yellow'))\n",
            "Checking solution...\n",
            "\rEpisode:   0% 0/50 [00:00<?, ?it/s]\rEpisode 0:   0% 0/50 [00:00<?, ?it/s]/content/drive/MyDrive/Github/RL_labs/lab2/problem3/PPO_check_solution.py:66: UserWarning: Creating a tensor from a list of numpy.ndarrays is extremely slow. Please consider converting the list to a single numpy.ndarray with numpy.array() before converting to a tensor. (Triggered internally at ../torch/csrc/utils/tensor_new.cpp:261.)\n",
            "  mu, var = model(torch.tensor([state]))\n",
            "Episode 49: 100% 50/50 [00:14<00:00,  3.55it/s]\n",
            "Policy achieves an average total reward of 239.9 +/- 25.2 with confidence 95%.\n",
            "Your policy passed the test!\n"
          ]
        }
      ]
    }
  ]
}