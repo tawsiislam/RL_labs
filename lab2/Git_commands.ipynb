{
  "nbformat": 4,
  "nbformat_minor": 0,
  "metadata": {
    "colab": {
      "provenance": []
    },
    "kernelspec": {
      "name": "python3",
      "display_name": "Python 3"
    },
    "language_info": {
      "name": "python"
    }
  },
  "cells": [
    {
      "cell_type": "code",
      "execution_count": null,
      "metadata": {
        "colab": {
          "base_uri": "https://localhost:8080/"
        },
        "id": "OCV0XDVe2uxj",
        "outputId": "0a4ff9e4-766b-49cb-a37a-a0bda02d7b89"
      },
      "outputs": [
        {
          "output_type": "stream",
          "name": "stdout",
          "text": [
            "Mounted at /content/drive\n"
          ]
        }
      ],
      "source": [
        "from google.colab import drive\n",
        "drive.mount('/content/drive')\n"
      ]
    },
    {
      "cell_type": "code",
      "source": [
        "%cd /content/drive/MyDrive/Github/RL_labs/lab2/problem3"
      ],
      "metadata": {
        "id": "e1xhOyiv-4rn",
        "colab": {
          "base_uri": "https://localhost:8080/"
        },
        "outputId": "6a8d8970-36ba-4496-fc4f-2fa33c7c7240"
      },
      "execution_count": null,
      "outputs": [
        {
          "output_type": "stream",
          "name": "stdout",
          "text": [
            "/content/drive/MyDrive/Github/RL_labs/lab2/problem3\n"
          ]
        }
      ]
    },
    {
      "cell_type": "code",
      "source": [
        "!pwd #For checking location in path"
      ],
      "metadata": {
        "colab": {
          "base_uri": "https://localhost:8080/"
        },
        "id": "76P8hlXl-6i5",
        "outputId": "0a7f9095-9493-4325-c84b-cf433eef523b"
      },
      "execution_count": null,
      "outputs": [
        {
          "output_type": "stream",
          "name": "stdout",
          "text": [
            "/content/drive/MyDrive/Github/RL_labs/lab2/problem3\n"
          ]
        }
      ]
    },
    {
      "cell_type": "code",
      "source": [
        "username = \"tawsiislam\"\n",
        "repository = \"RL_labs\"\n",
        "git_token = \"<git-token>\"\n",
        "#!git clone https://{git_token}@github.com/{username}/{repository} # Clone repo to Gdrive\n",
        "!git remote add origin https://{git_token}@github.com/{username}/{repository}"
      ],
      "metadata": {
        "colab": {
          "base_uri": "https://localhost:8080/"
        },
        "id": "0iiBhdKd4Sk6",
        "outputId": "782ee021-33cb-4ea1-d484-5e90a03406d3"
      },
      "execution_count": null,
      "outputs": [
        {
          "output_type": "stream",
          "name": "stdout",
          "text": [
            "error: remote origin already exists.\n"
          ]
        }
      ]
    },
    {
      "cell_type": "code",
      "source": [
        "branchname = \"tawsi\"\n",
        "!git checkout {branchname}"
      ],
      "metadata": {
        "colab": {
          "base_uri": "https://localhost:8080/"
        },
        "id": "0OSDjcMTA1Uf",
        "outputId": "3c750693-23df-456c-f860-af2dcc6f6496"
      },
      "execution_count": null,
      "outputs": [
        {
          "output_type": "stream",
          "name": "stdout",
          "text": [
            "A\tlab2/problem2/ActorNet.pth\n",
            "A\tlab2/problem2/ActorTarget.pth\n",
            "A\tlab2/problem2/CriticNet.pth\n",
            "A\tlab2/problem2/CriticTarget.pth\n",
            "M\tlab2/problem2/DDPG_problem.py\n",
            "A\tlab2/problem2/plot.png\n",
            "Already on 'tawsi'\n",
            "Your branch is up to date with 'origin/tawsi'.\n"
          ]
        }
      ]
    },
    {
      "cell_type": "code",
      "source": [
        "!git pull"
      ],
      "metadata": {
        "colab": {
          "base_uri": "https://localhost:8080/"
        },
        "id": "3Mx3frH-B81s",
        "outputId": "731ace1e-727d-4ff5-c5cd-f767b49eda13"
      },
      "execution_count": null,
      "outputs": [
        {
          "output_type": "stream",
          "name": "stdout",
          "text": [
            "remote: Enumerating objects: 6, done.\u001b[K\n",
            "remote: Counting objects:  16% (1/6)\u001b[K\rremote: Counting objects:  33% (2/6)\u001b[K\rremote: Counting objects:  50% (3/6)\u001b[K\rremote: Counting objects:  66% (4/6)\u001b[K\rremote: Counting objects:  83% (5/6)\u001b[K\rremote: Counting objects: 100% (6/6)\u001b[K\rremote: Counting objects: 100% (6/6), done.\u001b[K\n",
            "remote: Compressing objects:  50% (1/2)\u001b[K\rremote: Compressing objects: 100% (2/2)\u001b[K\rremote: Compressing objects: 100% (2/2), done.\u001b[K\n",
            "remote: Total 6 (delta 4), reused 6 (delta 4), pack-reused 0\u001b[K\n",
            "Unpacking objects:  16% (1/6)\rUnpacking objects:  33% (2/6)\rUnpacking objects:  50% (3/6)\rUnpacking objects:  66% (4/6)\rUnpacking objects:  83% (5/6)\rUnpacking objects: 100% (6/6)\rUnpacking objects: 100% (6/6), 1.08 KiB | 16.00 KiB/s, done.\n",
            "From https://github.com/tawsiislam/RL_labs\n",
            "   051bc31..c9e70a6  tawsi      -> origin/tawsi\n",
            "Updating 051bc31..c9e70a6\n",
            "error: Your local changes to the following files would be overwritten by merge:\n",
            "\tlab2/problem3/PPO_agent.py\n",
            "\tlab2/problem3/PPO_problem.py\n",
            "Please commit your changes or stash them before you merge.\n",
            "Aborting\n"
          ]
        }
      ]
    },
    {
      "cell_type": "code",
      "source": [
        "!git add ."
      ],
      "metadata": {
        "id": "BryMQ-gG6gtw"
      },
      "execution_count": null,
      "outputs": []
    },
    {
      "cell_type": "code",
      "source": [
        "!git reset --hard origin/tawsi"
      ],
      "metadata": {
        "colab": {
          "base_uri": "https://localhost:8080/"
        },
        "id": "ISDQi5O3Au7O",
        "outputId": "fc4dc68b-84eb-4e9c-a376-e25badfd2b6d"
      },
      "execution_count": null,
      "outputs": [
        {
          "output_type": "stream",
          "name": "stdout",
          "text": [
            "HEAD is now at c9e70a6 Moved part with G and probs to class method\n"
          ]
        }
      ]
    },
    {
      "cell_type": "code",
      "source": [
        "!git commit -m \"Working code, uploading trained models\""
      ],
      "metadata": {
        "id": "V8qFSMqwBAH1",
        "colab": {
          "base_uri": "https://localhost:8080/"
        },
        "outputId": "d362652e-63f0-4392-c649-ccf6665bbf21"
      },
      "execution_count": null,
      "outputs": [
        {
          "output_type": "stream",
          "name": "stdout",
          "text": [
            "Author identity unknown\n",
            "\n",
            "*** Please tell me who you are.\n",
            "\n",
            "Run\n",
            "\n",
            "  git config --global user.email \"you@example.com\"\n",
            "  git config --global user.name \"Your Name\"\n",
            "\n",
            "to set your account's default identity.\n",
            "Omit --global to set the identity only in this repository.\n",
            "\n",
            "fatal: unable to auto-detect email address (got 'root@4e2403aac496.(none)')\n"
          ]
        }
      ]
    }
  ]
}