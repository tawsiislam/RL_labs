{
  "nbformat": 4,
  "nbformat_minor": 0,
  "metadata": {
    "colab": {
      "provenance": [],
      "gpuType": "T4"
    },
    "kernelspec": {
      "name": "python3",
      "display_name": "Python 3"
    },
    "language_info": {
      "name": "python"
    },
    "accelerator": "GPU"
  },
  "cells": [
    {
      "cell_type": "code",
      "execution_count": null,
      "metadata": {
        "id": "z4O0nQpB_3Yx"
      },
      "outputs": [],
      "source": [
        "from google.colab import drive\n",
        "drive.mount('/content/drive')"
      ]
    },
    {
      "cell_type": "code",
      "source": [
        "%pwd"
      ],
      "metadata": {
        "id": "3o7h9D-IG346"
      },
      "execution_count": null,
      "outputs": []
    },
    {
      "cell_type": "code",
      "source": [
        "%cd /content/drive/MyDrive/Github/RL_labs/lab2/problem2"
      ],
      "metadata": {
        "id": "8QtKJsG3AAAL"
      },
      "execution_count": null,
      "outputs": []
    },
    {
      "cell_type": "code",
      "source": [
        "!pwd"
      ],
      "metadata": {
        "id": "s5MI42hnFWrD"
      },
      "execution_count": null,
      "outputs": []
    },
    {
      "cell_type": "code",
      "source": [
        "!pip install swig #Helps with avoiding problems installing box2d\n",
        "!pip install box2d-py\n",
        "!pip3 install gym==0.17"
      ],
      "metadata": {
        "id": "J0I6RbXbDFas"
      },
      "execution_count": null,
      "outputs": []
    },
    {
      "cell_type": "code",
      "source": [
        "import sys\n",
        "sys.path.insert(0,\"/content/drive/MyDrive/Github/RL_labs/lab2/problem2\")"
      ],
      "metadata": {
        "id": "y8keElSMQwDZ"
      },
      "execution_count": null,
      "outputs": []
    },
    {
      "cell_type": "code",
      "source": [
        "import numpy as np\n",
        "import gym\n",
        "import torch\n",
        "import matplotlib.pyplot as plt\n",
        "from tqdm import trange\n",
        "import torch.nn as nn\n",
        "import torch.optim as optim\n",
        "import random\n",
        "from collections import deque, namedtuple"
      ],
      "metadata": {
        "id": "nJWpJeaxEg22"
      },
      "execution_count": null,
      "outputs": []
    },
    {
      "cell_type": "code",
      "source": [
        "from DDPG_agent import *\n",
        "from  ReplayMemory import *\n",
        "from DDPG_soft_updates import soft_updates"
      ],
      "metadata": {
        "id": "KgcZSVg-SIss"
      },
      "execution_count": null,
      "outputs": []
    },
    {
      "cell_type": "code",
      "source": [
        "!pwd"
      ],
      "metadata": {
        "id": "OI4VkTfMSX7Q"
      },
      "execution_count": null,
      "outputs": []
    },
    {
      "cell_type": "code",
      "source": [
        "!python DDPG_problem.py"
      ],
      "metadata": {
        "colab": {
          "base_uri": "https://localhost:8080/"
        },
        "id": "sIXMykGpC96y",
        "outputId": "5a5c6811-e080-4363-e767-5eaaaa405ffe"
      },
      "execution_count": null,
      "outputs": [
        {
          "output_type": "stream",
          "name": "stdout",
          "text": [
            "Starting the script with L 50000\n",
            "Running on cuda\n",
            "/usr/local/lib/python3.10/dist-packages/gym/logger.py:30: UserWarning: \u001b[33mWARN: Box bound precision lowered by casting to float32\u001b[0m\n",
            "  warnings.warn(colorize('%s: %s'%('WARN', msg % args), 'yellow'))\n",
            "Episode:   0% 0/300 [00:00<?, ?it/s]/content/drive/MyDrive/Github/RL_labs/lab2/problem2/DDPG_agent.py:157: UserWarning: Creating a tensor from a list of numpy.ndarrays is extremely slow. Please consider converting the list to a single numpy.ndarray with numpy.array() before converting to a tensor. (Triggered internally at ../torch/csrc/utils/tensor_new.cpp:261.)\n",
            "  targetNextAction = self.ActorTarget.forward(torch.tensor(nextStates, device=self.dev))\n",
            "Episode 299 - Reward/Steps: 258.4/201 - Avg. Reward/Steps: 203.0/458: 100% 300/300 [30:49<00:00,  6.16s/it]\n"
          ]
        }
      ]
    },
    {
      "cell_type": "code",
      "source": [
        "model = torch.load('ActorNet.pth', map_location=torch.device('cpu'))\n",
        "torch.save(model, 'neural-network-2-actor.pth')"
      ],
      "metadata": {
        "id": "9PG4fvkEGDCJ"
      },
      "execution_count": null,
      "outputs": []
    },
    {
      "cell_type": "code",
      "source": [
        "!python DDPG_check_solution.py"
      ],
      "metadata": {
        "colab": {
          "base_uri": "https://localhost:8080/"
        },
        "id": "gdSNWR6kGdiI",
        "outputId": "9123ec73-78b0-4013-85e1-d2d5710fe50f"
      },
      "execution_count": null,
      "outputs": [
        {
          "output_type": "stream",
          "name": "stdout",
          "text": [
            "Network model: ActorNetwork(\n",
            "  (input_layer): Linear(in_features=8, out_features=400, bias=True)\n",
            "  (input_layer_activation): ReLU()\n",
            "  (hidden_layer): Linear(in_features=400, out_features=200, bias=True)\n",
            "  (hidden_layer_activation): ReLU()\n",
            "  (output_layer): Linear(in_features=200, out_features=2, bias=True)\n",
            "  (output_layer_activation): Tanh()\n",
            ")\n",
            "/usr/local/lib/python3.10/dist-packages/gym/logger.py:30: UserWarning: \u001b[33mWARN: Box bound precision lowered by casting to float32\u001b[0m\n",
            "  warnings.warn(colorize('%s: %s'%('WARN', msg % args), 'yellow'))\n",
            "Checking solution...\n",
            "\rEpisode:   0% 0/50 [00:00<?, ?it/s]\rEpisode 0:   0% 0/50 [00:00<?, ?it/s]/content/drive/MyDrive/Github/RL_labs/lab2/problem2/DDPG_check_solution.py:66: UserWarning: Creating a tensor from a list of numpy.ndarrays is extremely slow. Please consider converting the list to a single numpy.ndarray with numpy.array() before converting to a tensor. (Triggered internally at ../torch/csrc/utils/tensor_new.cpp:261.)\n",
            "  action = model(torch.tensor([state]))[0]\n",
            "Episode 49: 100% 50/50 [00:31<00:00,  1.60it/s]\n",
            "Policy achieves an average total reward of 225.2 +/- 26.0 with confidence 95%.\n",
            "Your policy passed the test!\n"
          ]
        }
      ]
    }
  ]
}