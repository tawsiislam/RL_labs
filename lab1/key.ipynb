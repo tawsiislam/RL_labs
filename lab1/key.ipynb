{
 "cells": [
  {
   "cell_type": "code",
   "execution_count": null,
   "metadata": {},
   "outputs": [],
   "source": [
    "import numpy as np\n",
    "import matplotlib.pyplot as plt\n",
    "import problem1_bonus as mz\n",
    "\n",
    "maze_mat = np.array([\n",
    "                [0, 0, 1, 0, 0, 0, 0, 0],\n",
    "                [0, 0, 1, 0, 0, 1, 0, 0],\n",
    "                [0, 0, 1, 0, 0, 1, 1, 1],\n",
    "                [0, 0, 1, 0, 0, 1, 0, 0],\n",
    "                [0, 0, 0, 0, 0, 0, 0, 0],\n",
    "                [0, 1, 1, 1, 1, 1, 1, 0],\n",
    "                [0, 0, 0, 0, 1, 2, 0, 0]])\n",
    "start_pos = (0,0)\n",
    "minotaur_pos = (6,5)\n",
    "mz.draw_maze(maze_mat, start_pos, minotaur_pos)\n",
    "\n",
    "# Create an environment maze\n",
    "env = mz.Maze_bonus(maze_mat,None,False,False)\n",
    "# Finite horizon\n",
    "horizon = 40\n",
    "# Solve the MDP problem with dynamic programming \n",
    "V, policy= mz.dynamic_programming(env,horizon)\n",
    "method = 'DynProg'\n",
    "start  = ((0, 0),(6, 5),0)\n",
    "path = env.simulate(start, policy, method)\n",
    "mz.animate_solution(maze_mat, path)\n",
    "#print(path)"
   ]
  }
 ],
 "metadata": {
  "kernelspec": {
   "display_name": "Python 3",
   "language": "python",
   "name": "python3"
  },
  "language_info": {
   "codemirror_mode": {
    "name": "ipython",
    "version": 3
   },
   "file_extension": ".py",
   "mimetype": "text/x-python",
   "name": "python",
   "nbconvert_exporter": "python",
   "pygments_lexer": "ipython3",
   "version": "3.11.3"
  }
 },
 "nbformat": 4,
 "nbformat_minor": 2
}
